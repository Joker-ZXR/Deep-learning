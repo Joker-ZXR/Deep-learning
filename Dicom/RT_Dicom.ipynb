{
 "cells": [
  {
   "cell_type": "markdown",
   "metadata": {},
   "source": [
    "#### 读取RT Dicom文件的头文件信息"
   ]
  },
  {
   "cell_type": "code",
   "execution_count": null,
   "metadata": {},
   "outputs": [],
   "source": [
    "import os\n",
    "import pydicom as dicom\n",
    "\n",
    "file_path = r'../RD.1.2.246.352.71.7.849455740085.3750465.20180928164145.dcm'\n",
    "dcm = dicom.read_file(file_path)\n",
    "print(dcm.SOPInstanceUID)\n",
    "print(dcm.pixel_array.shape)"
   ]
  },
  {
   "cell_type": "markdown",
   "metadata": {},
   "source": [
    "#### RT Plan头文件显示"
   ]
  },
  {
   "cell_type": "code",
   "execution_count": 42,
   "metadata": {},
   "outputs": [],
   "source": [
    "import pydicom\n",
    "import sys\n",
    "from PySide2 import QtGui, QtWidgets\n",
    "import collections\n",
    "\n",
    "\n",
    "class DicomTree(object):\n",
    "    def __init__(self, filename):\n",
    "        self.filename = filename\n",
    "\n",
    "    def show_tree(self):\n",
    "        ds = self.dicom_to_dataset(self.filename)\n",
    "        dic = self.dataset_to_dic(ds)\n",
    "        model = self.dic_to_model(dic)\n",
    "        self.display(model)\n",
    "\n",
    "    def array_to_model(self, array):\n",
    "        model = QtGui.QStandardItemModel()\n",
    "        parentItem = model.invisibleRootItem()\n",
    "        for ntuple in array:\n",
    "            tag = ntuple[0]\n",
    "            value = ntuple[1]\n",
    "            if isinstance(value, dict):\n",
    "                self.recurse_dic_to_item(value, parentItem)\n",
    "            else:\n",
    "                item = QtGui.QStandardItem(tag + str(value))\n",
    "                parentItem.appendRow(item)\n",
    "        return parentItem\n",
    "\n",
    "    def dic_to_model(self, dic):\n",
    "        model = QtGui.QStandardItemModel()\n",
    "        parentItem = model.invisibleRootItem()\n",
    "        self.recurse_dic_to_item(dic, parentItem)\n",
    "        return model\n",
    "\n",
    "    def dataset_to_array(self, dataset):\n",
    "        array = []\n",
    "        for data_element in dataset:\n",
    "            array.append(self.data_element_to_dic(data_element))\n",
    "        return array\n",
    "\n",
    "    def recurse_dic_to_item(self, dic, parent):\n",
    "        for k in dic:\n",
    "            v = dic[k]\n",
    "            if isinstance(v, dict):\n",
    "                item = QtGui.QStandardItem(k + ':' + str(v))\n",
    "                parent.appendRow(self.recurse_dic_to_item(v, item))\n",
    "            else:\n",
    "                item = QtGui.QStandardItem(k + ': ' + str(v))\n",
    "                parent.appendRow(item)\n",
    "        return parent\n",
    "\n",
    "    def dicom_to_dataset(self, filename):\n",
    "        dataset = pydicom.dcmread(filename, force=True)\n",
    "        return dataset\n",
    "\n",
    "    def data_element_to_dic(self, data_element):\n",
    "        dic = collections.OrderedDict()\n",
    "        if data_element.VR == \"SQ\":\n",
    "            items = collections.OrderedDict()\n",
    "            dic[data_element.name] = items\n",
    "            i = 0\n",
    "            for dataset_item in data_element:\n",
    "                items['item ' + str(i)] = self.dataset_to_dic(dataset_item)\n",
    "                i += 1\n",
    "        elif data_element.name != 'Pixel Data':\n",
    "            dic[data_element.name] = data_element.value\n",
    "        return dic\n",
    "\n",
    "    def dataset_to_dic(self, dataset):\n",
    "        dic = collections.OrderedDict()\n",
    "        for data_element in dataset:\n",
    "            dic.update(self.data_element_to_dic(data_element))\n",
    "        return dic\n",
    "\n",
    "    def display(self, model):\n",
    "        app = QtWidgets.QApplication.instance()\n",
    "\n",
    "        # create QApplication if it doesnt exist\n",
    "        if not app:\n",
    "            app = QtWidgets.QApplication(sys.argv)\n",
    "        tree = QtWidgets.QTreeView()\n",
    "        tree.setModel(model)\n",
    "        tree.show()\n",
    "        app.exec_()\n",
    "        return tree\n",
    "\n",
    "\n",
    "def main():\n",
    "    filename = r'../RP.1.2.246.352.71.5.849455740085.2415038.20180928163843.dcm'\n",
    "    dicomTree = DicomTree(filename)\n",
    "    dicomTree.show_tree()\n",
    "\n",
    "\n",
    "if __name__ == \"__main__\":\n",
    "    main()"
   ]
  },
  {
   "cell_type": "markdown",
   "metadata": {},
   "source": [
    "#### 读取Dicom序列的几种方法"
   ]
  },
  {
   "cell_type": "code",
   "execution_count": 45,
   "metadata": {},
   "outputs": [],
   "source": [
    "# 方法一：SimpleITK\n",
    "\n",
    "import SimpleITK as sitk\n",
    "\n",
    "def readdcm(filepath):\n",
    "    reader = sitk.ImageSeriesReader()  # 读取数据端口\n",
    "    reader.MetaDataDictionaryArrayUpdateOn()  # 这一步是加载公开的元信息\n",
    "    reader.LoadPrivateTagsOn()  # 这一步是加载私有的元信息\n",
    "    series_id = reader.GetGDCMSeriesIDs(filepath)\n",
    "    series_file_names = reader.GetGDCMSeriesFileNames(filepath, series_id[0])\n",
    "\n",
    "    reader.SetFileNames(series_file_names)  # 读取名称\n",
    "    images = reader.Execute()  # 读取数据\n",
    "    # sitk.WriteImage(images, \"T2_1.nii.gz\")#保存为nii\n",
    "    return images\n",
    "\n",
    "readdcm(filepath)"
   ]
  },
  {
   "cell_type": "code",
   "execution_count": 53,
   "metadata": {},
   "outputs": [
    {
     "data": {
      "text/plain": [
       "{'NII_FILE': 'C:\\\\Users\\\\Joker_ZXR\\\\Desktop\\\\data\\\\00010/',\n",
       " 'NII': <nibabel.nifti1.Nifti1Image at 0x2744614ba30>,\n",
       " 'MAX_SLICE_INCREMENT': 3.0}"
      ]
     },
     "execution_count": 53,
     "metadata": {},
     "output_type": "execute_result"
    }
   ],
   "source": [
    "# 方法二：dicom2nifti\n",
    "\n",
    "import dicom2nifti     #直接转换，不考虑序列调转的情况\n",
    "import dicom2nifti.common as common\n",
    "\n",
    "savepath = r\"../00010/\"  #保存路径   \n",
    "inputpath = r\"../00010/CT\"\n",
    "\n",
    "dicom_input = common.read_dicom_directory(inputpath)  # 读取整个dicon文件夹中每个dicom的头文件信息\n",
    "\n",
    "dicom2nifti.dicom_series_to_nifti(inputpath, savepath, reorient_nifti=False)  # 可以控制床位方向\n"
   ]
  },
  {
   "cell_type": "code",
   "execution_count": null,
   "metadata": {},
   "outputs": [],
   "source": []
  }
 ],
 "metadata": {
  "kernelspec": {
   "display_name": "Python 3.8.8 ('ViT')",
   "language": "python",
   "name": "python3"
  },
  "language_info": {
   "codemirror_mode": {
    "name": "ipython",
    "version": 3
   },
   "file_extension": ".py",
   "mimetype": "text/x-python",
   "name": "python",
   "nbconvert_exporter": "python",
   "pygments_lexer": "ipython3",
   "version": "3.8.8"
  },
  "orig_nbformat": 4,
  "vscode": {
   "interpreter": {
    "hash": "91781407c7cd345d60bfd7a4fb977454cfaec9855937e03f2a3a7a8e9b4567ae"
   }
  }
 },
 "nbformat": 4,
 "nbformat_minor": 2
}
